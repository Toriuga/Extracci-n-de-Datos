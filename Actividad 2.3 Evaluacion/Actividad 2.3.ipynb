{
 "cells": [
  {
   "cell_type": "code",
   "execution_count": 26,
   "metadata": {},
   "outputs": [],
   "source": [
    "#importamos librerioas requeridas\n",
    "\n",
    "import pandas as pd\n",
    "import numpy as np\n",
    "import matplotlib.pyplot as plt\n",
    "import seaborn as sns\n",
    "\n",
    "#Carga desde un archivo .xlsx sin indice\n",
    "df= pd.read_csv('listings.csv')\n",
    "df\n",
    "\n",
    "#Filtrar registros de 5 \"host name\" diferentes\n",
    "filtro1 = df.drop_duplicates(subset=[\"host_name\"]).head(5)\n",
    "filtro1\n",
    "#las variables que se filtraron fueron las de \"hostname en la cual los anfitriones sean unicos\"\n",
    "\n",
    "#Convertir archivo filtrado a CSV\n",
    "filtro1.to_csv(\"Filtro 1.csv\")\n"
   ]
  },
  {
   "cell_type": "code",
   "execution_count": 16,
   "metadata": {},
   "outputs": [],
   "source": [
    "#Filtrar registros de los hosts que se unieron a Airbnb antes del año 2019\n",
    "filtro2 = df[pd.to_datetime(df[\"host_since\"]).dt.year < 2019]\n",
    "filtro2\n",
    "# Variables que se filtraron fueron de host since en donde la fecha de ingeso de los anfitriones fue antes de 2019\n",
    "\n",
    "#Convertir archivo filtrado a CSV\n",
    "filtro2.to_csv(\"Filtro 2.csv\")"
   ]
  },
  {
   "cell_type": "code",
   "execution_count": 17,
   "metadata": {},
   "outputs": [],
   "source": [
    "#Filtrar registros de los hosts que responden \"a más tardar en 1 día\"\n",
    "filtro3 = df[df[\"host_response_time\"].str.contains(\"1 day\", na=False)]\n",
    "filtro3\n",
    "# se filtraron variables de host_response_time donde el tiempo de respuesta sea mas de 1 dia.\n",
    "\n",
    "#Convertir archivo filtrado a CSV\n",
    "filtro3.to_csv(\"Filtro 3.csv\")"
   ]
  },
  {
   "cell_type": "code",
   "execution_count": 18,
   "metadata": {},
   "outputs": [],
   "source": [
    "#Filtrar registros que tengan \"al menos 5 accommodations\"\n",
    "filtro4 = df[df[\"accommodates\"] >= 5]\n",
    "filtro4\n",
    "# Se filtraron las variables que tengan una capacidad de alojamiento de 5 o mas\n",
    "\n",
    "#Convertir archivo filtrado a CSV\n",
    "filtro4.to_csv(\"Filtro 4.csv\")"
   ]
  },
  {
   "cell_type": "code",
   "execution_count": 19,
   "metadata": {},
   "outputs": [],
   "source": [
    "#Filtrar registros de los tipos de cuarto: \"Entire home\" y \"Private room\"\n",
    "filtro5 = df[df[\"room_type\"].isin([\"Entire home/apt\", \"Private room\"])]\n",
    "filtro5\n",
    "# Se filtraron las variables de tipo de habitacion donde sea entire home y private room\n",
    "\n",
    "#Convertir archivo filtrado a CSV\n",
    "filtro5.to_csv(\"Filtro 5.csv\")"
   ]
  },
  {
   "cell_type": "code",
   "execution_count": 21,
   "metadata": {},
   "outputs": [],
   "source": [
    "#Filtrar registros que \"a lo mucho cuenten con 4 camas\"\n",
    "filtro6 = df[df[\"beds\"] <= 4]\n",
    "filtro6\n",
    "#Variables que tengan 4 camas o menos\n",
    "\n",
    "#Convertir archivo filtrado a CSV\n",
    "filtro6.to_csv(\"Filtro 6.csv\")"
   ]
  },
  {
   "cell_type": "code",
   "execution_count": null,
   "metadata": {},
   "outputs": [],
   "source": [
    "# g) Filtrar registros con \"1 baño o que sean superhost\", pero todos deben ser \"instant_bookable\"\n",
    "filtro7 = df[(df[\"bathrooms\"] == 1) | (df[\"host_is_superhost\"] == \"t\")]\n",
    "filtro7 = filtro7[filtro7[\"instant_bookable\"] == \"t\"]\n",
    "filtro7\n",
    "#Variables filtradas: 'bathrooms', 'host_is_superhost', 'instant_bookable'\n",
    "\n",
    "#Convertir archivo filtrado a CSV\n",
    "filtro7.to_csv(\"Filtro 7.csv\")"
   ]
  },
  {
   "cell_type": "code",
   "execution_count": 25,
   "metadata": {},
   "outputs": [],
   "source": [
    "# h) Filtrar registros cuyo \"review_scores_cleanliness\" sea menor de 3 y \"review_scores_rating\" sea mayor de 3\n",
    "filtro8 = df[(df[\"review_scores_cleanliness\"] < 3) & (df[\"review_scores_rating\"] > 3)]\n",
    "filtro8\n",
    "# Variables filtradas: 'review_scores_cleanliness', 'review_scores_rating'\n",
    "\n",
    "#Convertir archivo filtrado a CSV\n",
    "filtro8.to_csv(\"Filtro 8.csv\")"
   ]
  }
 ],
 "metadata": {
  "kernelspec": {
   "display_name": "Python 3",
   "language": "python",
   "name": "python3"
  },
  "language_info": {
   "codemirror_mode": {
    "name": "ipython",
    "version": 3
   },
   "file_extension": ".py",
   "mimetype": "text/x-python",
   "name": "python",
   "nbconvert_exporter": "python",
   "pygments_lexer": "ipython3",
   "version": "3.12.1"
  }
 },
 "nbformat": 4,
 "nbformat_minor": 2
}
